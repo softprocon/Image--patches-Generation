{
 "cells": [
  {
   "cell_type": "code",
   "execution_count": 9,
   "metadata": {
    "execution": {
     "iopub.execute_input": "2023-06-02T19:03:33.051833Z",
     "iopub.status.busy": "2023-06-02T19:03:33.051042Z",
     "iopub.status.idle": "2023-06-02T19:03:33.064220Z",
     "shell.execute_reply": "2023-06-02T19:03:33.061541Z",
     "shell.execute_reply.started": "2023-06-02T19:03:33.051777Z"
    },
    "tags": []
   },
   "outputs": [],
   "source": [
    "# import libraries\n",
    "from patchify import patchify, unpatchify\n",
    "import numpy as np\n",
    "import matplotlib.pyplot as plt\n",
    "from skimage.io import imread, imshow\n",
    "from skimage import img_as_ubyte, exposure, io\n",
    "import cv2\n",
    "import os\n",
    "from datetime import datetime"
   ]
  },
  {
   "cell_type": "code",
   "execution_count": 11,
   "metadata": {
    "execution": {
     "iopub.execute_input": "2023-06-02T19:13:37.158326Z",
     "iopub.status.busy": "2023-06-02T19:13:37.157467Z",
     "iopub.status.idle": "2023-06-02T19:16:23.289494Z",
     "shell.execute_reply": "2023-06-02T19:16:23.287533Z",
     "shell.execute_reply.started": "2023-06-02T19:13:37.158268Z"
    },
    "tags": []
   },
   "outputs": [
    {
     "name": "stdout",
     "output_type": "stream",
     "text": [
      "CPU times: user 2min 2s, sys: 26.4 s, total: 2min 29s\n",
      "Wall time: 2min 46s\n"
     ]
    }
   ],
   "source": [
    "%%time\n",
    "\n",
    "image = 'images/S1A_IW_GRDH_1SDV_20150419T155633_20150419T155658_005555_0071AF_7CF1_Orb_NR_Cal_EC.tiff'\n",
    "full_img = io.imread(image)\n",
    "\n",
    "# print(full_img.shape, full_img.dtype, type(full_img))\n",
    "h, w = full_img.shape[0], full_img.shape[1]\n",
    "\n",
    "threshold = 0.04\n",
    "full_img[full_img > threshold] = threshold\n",
    "\n",
    "# # # display image\n",
    "# # plt.figure(figsize=(10,10))\n",
    "# # plt.imshow(full_img, cmap='gray') # display the image\n",
    "# # plt.axis('off')\n",
    "# # plt.show()\n",
    "\n",
    "\n",
    "# patches with overlap patch_size > step_size\n",
    "\n",
    "# # patch and step sizes\n",
    "patch_size = 4096\n",
    "step_size= (2048, 2048)\n",
    "\n",
    "# padding image before creating patches in order to cover entire image\n",
    "\n",
    "# Pad the image with zeros\n",
    "img_padded = np.pad(full_img, ((0, patch_size - full_img.shape[0] % patch_size),\n",
    "                           (0, patch_size - full_img.shape[1] % patch_size)), mode='constant')\n",
    "\n",
    "\n",
    "# Extract patches using patchify\n",
    "patches_padded = patchify(img_padded, (patch_size, patch_size), step=step_size)\n",
    "patches_padded.shape\n",
    "\n",
    "# # displaying patches\n",
    "# fig, ax = plt.subplots(patches_padded.shape[0], patches_padded.shape[1], figsize=(8,8), facecolor='gray')\n",
    "# for i in range(patches_padded.shape[0]):\n",
    "#     for j in range(patches_padded.shape[1]):\n",
    "#         ax[i][j].imshow(patches_padded[i][j], cmap='gray')\n",
    "#         ax[i][j].axis('off')\n",
    "#         plt.subplots_adjust(wspace=0.1, hspace=0.1)\n",
    "#         plt.subplots_adjust(wspace=0.1, hspace=0.1)\n",
    "\n",
    "# Save patches to folder\n",
    "\n",
    "# Set the folder path\n",
    "folder_path = 'images/padded_overlap2/'\n",
    "\n",
    "# Check if the folder exists, create it if not\n",
    "if not os.path.exists(folder_path):\n",
    "    os.makedirs(folder_path)\n",
    "\n",
    "# Set the threshold value\n",
    "thresh = 50\n",
    "\n",
    "for i in range(patches_padded.shape[0]):\n",
    "    for j in range(patches_padded.shape[1]):\n",
    "        single_patch_img = patches_padded[i, j, :, :]\n",
    "        \n",
    "        # Apply thresholding to enhance contrast\n",
    "        single_patch_img[single_patch_img > thresh] = thresh\n",
    "        \n",
    "        # Normalize the image\n",
    "        single_patch_img = cv2.normalize(single_patch_img, None, alpha=0, beta=255, norm_type=cv2.NORM_MINMAX, dtype=cv2.CV_8UC1)\n",
    "        \n",
    "        # Save the image\n",
    "        if not cv2.imwrite(folder_path + 'image_' + '_' + str(i) + str(j) + '.jpg', single_patch_img):\n",
    "            raise Exception(\"Could not write the image\")         "
   ]
  },
  {
   "cell_type": "code",
   "execution_count": null,
   "metadata": {},
   "outputs": [],
   "source": []
  }
 ],
 "metadata": {
  "kernelspec": {
   "display_name": "Python 3.8 (py38)",
   "language": "python",
   "name": "py38"
  },
  "language_info": {
   "codemirror_mode": {
    "name": "ipython",
    "version": 3
   },
   "file_extension": ".py",
   "mimetype": "text/x-python",
   "name": "python",
   "nbconvert_exporter": "python",
   "pygments_lexer": "ipython3",
   "version": "3.8.5"
  }
 },
 "nbformat": 4,
 "nbformat_minor": 4
}
